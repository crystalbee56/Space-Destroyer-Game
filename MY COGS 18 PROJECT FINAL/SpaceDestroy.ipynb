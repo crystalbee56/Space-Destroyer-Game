{
 "cells": [
  {
   "cell_type": "markdown",
   "metadata": {},
   "source": [
    "**#DESCRIPTION**  \n",
    "\n",
    "\n",
    "*Hi, So my code is all about this fun game I whipped up called 'Crystal's Space Destroyers' using Pygame in Python. You basically control a character who's dodging obstacles and blasting them away. Here's what it's all about:\n",
    "Here's how the SpaceDestroy class sets things up for the game - it gets the display screen going, brings in the player character, obstacles, and bullets. Plus, it keeps the game running smoothly by taking care of user commands, game updates, and showing off all the game elements.Players can zip around dodging obstacles and shooting them down with the arrow keys. Just watch out for those pesky falling obstacles while racking up points! Blocks start raining down from the top of the screen, each coming at its own pace and color, making it a bit of a challenge to dodge. Once you crash into one of them, it's back to square one with your score resetting . You'll spot your score up in the right corner of the screen, nothing fancy, just keeping you in the loop. The game is all about that old-school arcade feel, where you try to stay alive for as long as you can, all while gunning for that high score.*\n"
   ]
  },
  {
   "cell_type": "code",
   "execution_count": 1,
   "metadata": {},
   "outputs": [
    {
     "name": "stdout",
     "output_type": "stream",
     "text": [
      "pygame 2.5.0 (SDL 2.28.0, Python 3.11.4)\n",
      "Hello from the pygame community. https://www.pygame.org/contribute.html\n"
     ]
    }
   ],
   "source": [
    "#Run the code\n",
    "from my_module.functions import SpaceDestroy\n",
    "game = SpaceDestroy()\n",
    "game.run()\n",
    "        \n",
    "        "
   ]
  },
  {
   "cell_type": "markdown",
   "metadata": {},
   "source": [
    "*For my code, i decided to go a beyond the minimal project requirement. This is because i wanted to challenge myself. My decision to go beyond the minimal project requirement was driven by my desire to challenge myself. While this is not my first Python class, it is indeed my first project in Python. I wanted to push my skills further and explore the possibilities of what I could achieve with the language. By taking on a more ambitious project, I aimed to deepen my understanding of Python's capabilities and gain valuable hands-on experience. Embarking on a project beyond the minimal requirement provided an opportunity for me to explore the language's nuances and push my skills to new levels. It allowed me to expand my knowledge and experiment with different concepts, further solidifying my understanding of Python programming. Not only did this project challenge me, but it also sparked my creativity and motivated me to think critically about problem-solving.*\n",
    "\n",
    "\n",
    "*Although, i did encounter some difficulties. I had so many ideas of stuff i wanted to try out, but i had to keep in mind that i was limited by time and resources. I had to prioritize my ideas and choose which was the most sufficient for a beginner class because i did not want to go too far out of my depth. Then, i began to make the necessary files and programs. I started out on Jupyterhub but for some reason it wasn't responding or dislaying the code. I  switch to VS code which i already had installed on my computer. It took me a while to figure out all my errors but in the end it all worked out.*\n"
   ]
  },
  {
   "cell_type": "markdown",
   "metadata": {},
   "source": []
  }
 ],
 "metadata": {
  "kernelspec": {
   "display_name": "Python 3",
   "language": "python",
   "name": "python3"
  },
  "language_info": {
   "codemirror_mode": {
    "name": "ipython",
    "version": 3
   },
   "file_extension": ".py",
   "mimetype": "text/x-python",
   "name": "python",
   "nbconvert_exporter": "python",
   "pygments_lexer": "ipython3",
   "version": "3.11.4"
  }
 },
 "nbformat": 4,
 "nbformat_minor": 2
}
